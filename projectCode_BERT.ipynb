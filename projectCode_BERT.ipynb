{
  "nbformat": 4,
  "nbformat_minor": 0,
  "metadata": {
    "colab": {
      "provenance": []
    },
    "kernelspec": {
      "name": "python3",
      "display_name": "Python 3"
    },
    "language_info": {
      "name": "python"
    },
    "accelerator": "GPU",
    "gpuClass": "standard"
  },
  "cells": [
    {
      "cell_type": "markdown",
      "source": [
        "## **Pre-Trained BERT and Fine Tuning implement ** by Pouria Zarrehparvar"
      ],
      "metadata": {
        "id": "1FBGcGDqB5jD"
      }
    },
    {
      "cell_type": "code",
      "execution_count": null,
      "metadata": {
        "id": "q_IjH-It5a9B"
      },
      "outputs": [],
      "source": [
        "import numpy as np\n",
        "import pandas as pd\n",
        "import matplotlib.pyplot as plt\n",
        "import seaborn as sns\n",
        "from google.colab import drive\n",
        "\n",
        "import nltk\n",
        "import re\n",
        "import string\n",
        "\n",
        "from sklearn.model_selection import train_test_split\n",
        "from sklearn.metrics import classification_report\n",
        "from sklearn.metrics import confusion_matrix,accuracy_score\n",
        "\n",
        "import keras\n",
        "from keras.preprocessing import text,sequence\n",
        "from keras.models import Sequential\n",
        "from keras.layers import Dense,Embedding,LSTM,Dropout\n",
        "import tensorflow as tf\n",
        "import warnings\n",
        "import tensorflow_hub as hub\n",
        "\n",
        "warnings.filterwarnings('ignore')"
      ]
    },
    {
      "cell_type": "code",
      "source": [
        "drive.mount('/content/drive')\n",
        "\n",
        "path = \"/content/drive/MyDrive/cleanDataf.csv\"\n",
        "data = pd.read_csv(path)\n",
        "\n"
      ],
      "metadata": {
        "colab": {
          "base_uri": "https://localhost:8080/"
        },
        "id": "C9ZdyFSMXLyy",
        "outputId": "d4ceb40d-35fd-46da-8515-e19ec4cc8e03"
      },
      "execution_count": null,
      "outputs": [
        {
          "output_type": "stream",
          "name": "stdout",
          "text": [
            "Drive already mounted at /content/drive; to attempt to forcibly remount, call drive.mount(\"/content/drive\", force_remount=True).\n"
          ]
        }
      ]
    },
    {
      "cell_type": "code",
      "source": [
        "X_train, X_test, y_train, y_test = train_test_split(data['text'], data['label'], random_state=0)"
      ],
      "metadata": {
        "id": "i4KXU5eAXLwx"
      },
      "execution_count": null,
      "outputs": []
    },
    {
      "cell_type": "code",
      "source": [
        "!pip install tensorflow-text\n",
        "import tensorflow_text as text"
      ],
      "metadata": {
        "id": "HKxsfKznXLuq"
      },
      "execution_count": null,
      "outputs": []
    },
    {
      "cell_type": "code",
      "source": [
        "!pip install --quiet transformers\n",
        "from transformers import TFBertModel, BertTokenizer\n",
        "import tensorflow_hub as hub"
      ],
      "metadata": {
        "colab": {
          "base_uri": "https://localhost:8080/"
        },
        "id": "2MwKMTFcXLst",
        "outputId": "4ac92857-0a20-4385-de81-a0d72e809ce5"
      },
      "execution_count": null,
      "outputs": [
        {
          "output_type": "stream",
          "name": "stdout",
          "text": [
            "\u001b[K     |████████████████████████████████| 4.7 MB 25.4 MB/s \n",
            "\u001b[K     |████████████████████████████████| 6.6 MB 59.4 MB/s \n",
            "\u001b[K     |████████████████████████████████| 120 kB 73.9 MB/s \n",
            "\u001b[?25h"
          ]
        }
      ]
    },
    {
      "cell_type": "code",
      "source": [
        "bert_preprocess = hub.KerasLayer(\"https://tfhub.dev/tensorflow/bert_en_uncased_preprocess/3\")\n",
        "bert_encoder = hub.KerasLayer(\"https://tfhub.dev/tensorflow/bert_en_uncased_L-12_H-768_A-12/4\")\n"
      ],
      "metadata": {
        "colab": {
          "base_uri": "https://localhost:8080/"
        },
        "id": "ozA0wlKbXLqR",
        "outputId": "e3f1c95d-eeab-40ba-83a8-e14b23b569aa"
      },
      "execution_count": null,
      "outputs": [
        {
          "output_type": "stream",
          "name": "stderr",
          "text": [
            "WARNING:tensorflow:Please fix your imports. Module tensorflow.python.training.tracking.data_structures has been moved to tensorflow.python.trackable.data_structures. The old module will be deleted in version 2.11.\n"
          ]
        }
      ]
    },
    {
      "cell_type": "code",
      "source": [
        "preprocessor = hub.load(\n",
        "    \"https://tfhub.dev/tensorflow/bert_en_uncased_preprocess/3\")\n",
        "\n",
        "# Step 1: tokenize batches of text inputs.\n",
        "text_inputs = [tf.keras.layers.Input(shape=(), dtype=tf.string)]\n",
        "tokenize = hub.KerasLayer(preprocessor.tokenize)\n",
        "tokenized_inputs = [tokenize(segment) for segment in text_inputs]\n",
        "\n",
        "# Step 2 (optional): modify tokenized inputs.\n",
        "pass\n",
        "\n",
        "# Step 3: pack input sequences for the Transformer encoder.\n",
        "seq_length = 300\n",
        "bert_pack_inputs = hub.KerasLayer(\n",
        "    preprocessor.bert_pack_inputs,\n",
        "    arguments=dict(seq_length=seq_length))  # Optional argument.\n",
        "encoder_inputs = bert_pack_inputs(tokenized_inputs)\n"
      ],
      "metadata": {
        "id": "VDYA6WiRXLoS"
      },
      "execution_count": null,
      "outputs": []
    },
    {
      "cell_type": "code",
      "source": [
        "outputs = bert_encoder(encoder_inputs)"
      ],
      "metadata": {
        "id": "yDkvB-DPXLmB"
      },
      "execution_count": null,
      "outputs": []
    },
    {
      "cell_type": "code",
      "source": [
        "l = tf.keras.layers.Dropout(0.1)(outputs['pooled_output'])\n",
        "\n",
        "l = tf.keras.layers.Dense(1, activation='sigmoid', name=\"output\")(l)"
      ],
      "metadata": {
        "id": "CMBWCdPfXLjh"
      },
      "execution_count": null,
      "outputs": []
    },
    {
      "cell_type": "code",
      "source": [
        "model = tf.keras.Model(inputs=text_inputs, outputs = [l])\n",
        "model.summary()\n"
      ],
      "metadata": {
        "colab": {
          "base_uri": "https://localhost:8080/"
        },
        "id": "_paPDfV9XLhI",
        "outputId": "e5df1084-84e0-411f-dfc7-5ad781138a97"
      },
      "execution_count": null,
      "outputs": [
        {
          "output_type": "stream",
          "name": "stdout",
          "text": [
            "Model: \"model\"\n",
            "__________________________________________________________________________________________________\n",
            " Layer (type)                   Output Shape         Param #     Connected to                     \n",
            "==================================================================================================\n",
            " input_1 (InputLayer)           [(None,)]            0           []                               \n",
            "                                                                                                  \n",
            " keras_layer_2 (KerasLayer)     (None, None, None)   0           ['input_1[0][0]']                \n",
            "                                                                                                  \n",
            " keras_layer_3 (KerasLayer)     {'input_type_ids':   0           ['keras_layer_2[0][0]']          \n",
            "                                (None, 300),                                                      \n",
            "                                 'input_word_ids':                                                \n",
            "                                (None, 300),                                                      \n",
            "                                 'input_mask': (Non                                               \n",
            "                                e, 300)}                                                          \n",
            "                                                                                                  \n",
            " keras_layer_1 (KerasLayer)     {'sequence_output':  109482241   ['keras_layer_3[0][0]',          \n",
            "                                 (None, 300, 768),                'keras_layer_3[0][1]',          \n",
            "                                 'pooled_output': (               'keras_layer_3[0][2]']          \n",
            "                                None, 768),                                                       \n",
            "                                 'default': (None,                                                \n",
            "                                768),                                                             \n",
            "                                 'encoder_outputs':                                               \n",
            "                                 [(None, 300, 768),                                               \n",
            "                                 (None, 300, 768),                                                \n",
            "                                 (None, 300, 768),                                                \n",
            "                                 (None, 300, 768),                                                \n",
            "                                 (None, 300, 768),                                                \n",
            "                                 (None, 300, 768),                                                \n",
            "                                 (None, 300, 768),                                                \n",
            "                                 (None, 300, 768),                                                \n",
            "                                 (None, 300, 768),                                                \n",
            "                                 (None, 300, 768),                                                \n",
            "                                 (None, 300, 768),                                                \n",
            "                                 (None, 300, 768)]}                                               \n",
            "                                                                                                  \n",
            " dropout (Dropout)              (None, 768)          0           ['keras_layer_1[0][13]']         \n",
            "                                                                                                  \n",
            " output (Dense)                 (None, 1)            769         ['dropout[0][0]']                \n",
            "                                                                                                  \n",
            "==================================================================================================\n",
            "Total params: 109,483,010\n",
            "Trainable params: 769\n",
            "Non-trainable params: 109,482,241\n",
            "__________________________________________________________________________________________________\n"
          ]
        }
      ]
    },
    {
      "cell_type": "code",
      "source": [
        "METRICS = [\n",
        "      tf.keras.metrics.BinaryAccuracy(name='accuracy')\n",
        "]\n",
        "\n",
        "model.compile(optimizer=tf.keras.optimizers.Adam(lr = 0.01),\n",
        " loss='binary_crossentropy',\n",
        " metrics=METRICS)\n",
        "\n"
      ],
      "metadata": {
        "id": "fF2Xk45OXLe4"
      },
      "execution_count": null,
      "outputs": []
    },
    {
      "cell_type": "code",
      "source": [
        "history_model_BERT = model.fit(X_train, y_train, validation_split=0.3, epochs=10, batch_size=128)"
      ],
      "metadata": {
        "colab": {
          "base_uri": "https://localhost:8080/"
        },
        "id": "KnklAf7qXciW",
        "outputId": "3453ff51-4f86-49ae-82c7-b9e3779fa200"
      },
      "execution_count": null,
      "outputs": [
        {
          "output_type": "stream",
          "name": "stdout",
          "text": [
            "Epoch 1/10\n",
            "185/185 [==============================] - 963s 5s/step - loss: 0.4066 - accuracy: 0.8236 - val_loss: 0.2996 - val_accuracy: 0.8751\n",
            "Epoch 2/10\n",
            "185/185 [==============================] - 960s 5s/step - loss: 0.2961 - accuracy: 0.8760 - val_loss: 0.2715 - val_accuracy: 0.8852\n",
            "Epoch 3/10\n",
            "185/185 [==============================] - 961s 5s/step - loss: 0.2797 - accuracy: 0.8846 - val_loss: 0.2857 - val_accuracy: 0.8735\n",
            "Epoch 4/10\n",
            "185/185 [==============================] - 961s 5s/step - loss: 0.2711 - accuracy: 0.8871 - val_loss: 0.3379 - val_accuracy: 0.8556\n",
            "Epoch 5/10\n",
            "185/185 [==============================] - 960s 5s/step - loss: 0.2644 - accuracy: 0.8884 - val_loss: 0.2329 - val_accuracy: 0.9052\n",
            "Epoch 6/10\n",
            "185/185 [==============================] - 961s 5s/step - loss: 0.2610 - accuracy: 0.8943 - val_loss: 0.2289 - val_accuracy: 0.9072\n",
            "Epoch 7/10\n",
            "185/185 [==============================] - 959s 5s/step - loss: 0.2585 - accuracy: 0.8918 - val_loss: 0.2258 - val_accuracy: 0.9103\n",
            "Epoch 8/10\n",
            "185/185 [==============================] - 958s 5s/step - loss: 0.2593 - accuracy: 0.8940 - val_loss: 0.2317 - val_accuracy: 0.9019\n",
            "Epoch 9/10\n",
            "185/185 [==============================] - 959s 5s/step - loss: 0.2493 - accuracy: 0.8992 - val_loss: 0.2208 - val_accuracy: 0.9087\n",
            "Epoch 10/10\n",
            "185/185 [==============================] - 958s 5s/step - loss: 0.2528 - accuracy: 0.8959 - val_loss: 0.2197 - val_accuracy: 0.9116\n"
          ]
        }
      ]
    },
    {
      "cell_type": "code",
      "source": [
        "print(\"Accuracy of the model on Training Data is - \" , model.evaluate(X_train,y_train)[1]*100 , \"%\")\n",
        "print(\"Accuracy of the model on Testing Data is - \" , model.evaluate(X_test,y_test)[1]*100 , \"%\")"
      ],
      "metadata": {
        "colab": {
          "base_uri": "https://localhost:8080/"
        },
        "id": "GIEt5dkOXcf3",
        "outputId": "9093044d-c06b-4d37-82c4-2aa531d2ab6f"
      },
      "execution_count": null,
      "outputs": [
        {
          "output_type": "stream",
          "name": "stdout",
          "text": [
            "1053/1053 [==============================] - 838s 796ms/step - loss: 0.2186 - accuracy: 0.9125\n",
            "Accuracy of the model on Training Data is -  91.25115275382996 %\n",
            "351/351 [==============================] - 280s 799ms/step - loss: 0.2226 - accuracy: 0.9060\n",
            "Accuracy of the model on Testing Data is -  90.60133695602417 %\n"
          ]
        }
      ]
    },
    {
      "cell_type": "code",
      "source": [
        "plt.figure()\n",
        "plt.plot(history_model_BERT.history[\"accuracy\"], label = \"Train\")\n",
        "plt.plot(history_model_BERT.history[\"val_accuracy\"], label = \"Test\")\n",
        "plt.title(\"Accuracy\")\n",
        "plt.ylabel(\"Acc\")\n",
        "plt.xlabel(\"epochs\")\n",
        "plt.legend()\n",
        "plt.show()"
      ],
      "metadata": {
        "colab": {
          "base_uri": "https://localhost:8080/",
          "height": 295
        },
        "id": "dtYgaVf9Xcdg",
        "outputId": "4334248c-5a04-4243-8141-3350130c39f3"
      },
      "execution_count": null,
      "outputs": [
        {
          "output_type": "display_data",
          "data": {
            "text/plain": [
              "<Figure size 432x288 with 1 Axes>"
            ],
            "image/png": "[encoded data removed]"
          },
          "metadata": {
            "needs_background": "light"
          }
        }
      ]
    },
    {
      "cell_type": "code",
      "source": [
        "plt.figure()\n",
        "plt.plot(history_model_BERT.history[\"loss\"], label = \"Train\")\n",
        "plt.plot(history_model_BERT.history[\"val_loss\"], label = \"Test\")\n",
        "plt.title(\"Loss\")\n",
        "plt.ylabel(\"Loss\")\n",
        "plt.xlabel(\"epochs\")\n",
        "plt.legend()\n",
        "plt.show()\n"
      ],
      "metadata": {
        "colab": {
          "base_uri": "https://localhost:8080/",
          "height": 295
        },
        "id": "WlpxtGvmCdz_",
        "outputId": "de9aa071-2821-491a-87a2-854c60d11e7e"
      },
      "execution_count": null,
      "outputs": [
        {
          "output_type": "display_data",
          "data": {
            "text/plain": [
              "<Figure size 432x288 with 1 Axes>"
            ],
            "image/png": "[encoded data removed]"
          },
          "metadata": {
            "needs_background": "light"
          }
        }
      ]
    },
    {
      "cell_type": "code",
      "source": [
        "pred = (model.predict(X_test) > 0.5).astype(\"int32\")\n",
        "print(classification_report(y_test, pred, target_names = ['Fake','Real']))\n"
      ],
      "metadata": {
        "colab": {
          "base_uri": "https://localhost:8080/"
        },
        "id": "2fVDdxkWGseP",
        "outputId": "4e51e5ba-4881-412a-bb84-eef5fb0043c5"
      },
      "execution_count": null,
      "outputs": [
        {
          "output_type": "stream",
          "name": "stdout",
          "text": [
            "351/351 [==============================] - 275s 785ms/step\n",
            "              precision    recall  f1-score   support\n",
            "\n",
            "        Fake       0.92      0.90      0.91      5858\n",
            "        Real       0.89      0.92      0.90      5367\n",
            "\n",
            "    accuracy                           0.91     11225\n",
            "   macro avg       0.91      0.91      0.91     11225\n",
            "weighted avg       0.91      0.91      0.91     11225\n",
            "\n"
          ]
        }
      ]
    },
    {
      "cell_type": "code",
      "source": [
        "cm = confusion_matrix(y_test,pred)\n",
        "cm = pd.DataFrame(cm , index = ['Fake','Original'] , columns = ['Fake','Original'])\n",
        "plt.figure(figsize = (7,7))\n",
        "sns.heatmap(cm,cmap= \"Oranges\", linecolor = 'black' , linewidth = 1 , annot = True, fmt='' , xticklabels = ['Fake','Original'] , yticklabels = ['Fake','Original'])\n",
        "plt.xlabel(\"Predicted\")\n",
        "plt.ylabel(\"Actual\")\n"
      ],
      "metadata": {
        "colab": {
          "base_uri": "https://localhost:8080/",
          "height": 459
        },
        "id": "WLvwxOiFGsbl",
        "outputId": "f18703d7-d791-4b47-acec-6b1095bfaf88"
      },
      "execution_count": null,
      "outputs": [
        {
          "output_type": "execute_result",
          "data": {
            "text/plain": [
              "Text(42.0, 0.5, 'Actual')"
            ]
          },
          "metadata": {},
          "execution_count": 17
        },
        {
          "output_type": "display_data",
          "data": {
            "text/plain": [
              "<Figure size 504x504 with 2 Axes>"
            ],
            "image/png": "[encoded data removed]"
          },
          "metadata": {
            "needs_background": "light"
          }
        }
      ]
    },
    {
      "cell_type": "code",
      "source": [],
      "metadata": {
        "id": "ttaD8HqzGsYO"
      },
      "execution_count": null,
      "outputs": []
    },
    {
      "cell_type": "code",
      "source": [],
      "metadata": {
        "id": "mjOsvYipGsVO"
      },
      "execution_count": null,
      "outputs": []
    }
  ]
}